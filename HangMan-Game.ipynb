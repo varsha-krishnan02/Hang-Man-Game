{
 "cells": [
  {
   "cell_type": "code",
   "execution_count": 1,
   "id": "ed85d906-0f7c-4982-84f5-0edcce1c9029",
   "metadata": {},
   "outputs": [
    {
     "name": "stderr",
     "output_type": "stream",
     "text": [
      "<>:42: SyntaxWarning: invalid escape sequence '\\ '\n",
      "<>:43: SyntaxWarning: invalid escape sequence '\\ '\n",
      "<>:42: SyntaxWarning: invalid escape sequence '\\ '\n",
      "<>:43: SyntaxWarning: invalid escape sequence '\\ '\n",
      "C:\\Users\\varsh\\AppData\\Local\\Temp\\ipykernel_30796\\1440715621.py:42: SyntaxWarning: invalid escape sequence '\\ '\n",
      "  print(\"/|\\ |\")\n",
      "C:\\Users\\varsh\\AppData\\Local\\Temp\\ipykernel_30796\\1440715621.py:43: SyntaxWarning: invalid escape sequence '\\ '\n",
      "  print(\"/ \\ |\")\n"
     ]
    },
    {
     "name": "stdout",
     "output_type": "stream",
     "text": [
      "Select a word from the list: ['cow', 'cat', 'dog', 'lion']\n"
     ]
    },
    {
     "name": "stdin",
     "output_type": "stream",
     "text": [
      "Player 1, enter your word (cow, cat, dog, lion):  w\n"
     ]
    },
    {
     "name": "stdout",
     "output_type": "stream",
     "text": [
      "Player 2, try to guess the word.\n",
      "Your word has {len(word)} letters: {'_'}\n",
      "5 are left\n"
     ]
    },
    {
     "name": "stdin",
     "output_type": "stream",
     "text": [
      "Guess a letter:  c\n"
     ]
    },
    {
     "name": "stdout",
     "output_type": "stream",
     "text": [
      "Wrong guess!\n",
      "_\n",
      "4 are left\n"
     ]
    },
    {
     "name": "stdin",
     "output_type": "stream",
     "text": [
      "Guess a letter:  r\n"
     ]
    },
    {
     "name": "stdout",
     "output_type": "stream",
     "text": [
      "Wrong guess!\n",
      "_\n",
      "3 are left\n"
     ]
    },
    {
     "name": "stdin",
     "output_type": "stream",
     "text": [
      "Guess a letter:  o\n"
     ]
    },
    {
     "name": "stdout",
     "output_type": "stream",
     "text": [
      "Wrong guess!\n",
      "_\n",
      "2 are left\n"
     ]
    },
    {
     "name": "stdin",
     "output_type": "stream",
     "text": [
      "Guess a letter:  q\n"
     ]
    },
    {
     "name": "stdout",
     "output_type": "stream",
     "text": [
      "Wrong guess!\n",
      "_\n",
      "1 are left\n"
     ]
    },
    {
     "name": "stdin",
     "output_type": "stream",
     "text": [
      "Guess a letter:  o\n"
     ]
    },
    {
     "name": "stdout",
     "output_type": "stream",
     "text": [
      "Wrong guess!\n",
      "_\n",
      "\n",
      "Out of chances! The correct word was: w\n",
      " +--+\n",
      " |  |\n",
      " O  |\n",
      "/|\\ |\n",
      "/ \\ |\n",
      "    |\n"
     ]
    }
   ],
   "source": [
    "#Hangman is a guessing game where the player has to guess a letter in a word. For each incorrect guess, a part of a hangman figure is drawn.\n",
    "\n",
    "\n",
    "words = ['cow', 'cat', 'dog', 'lion'] #list of words\n",
    "\n",
    "print(\"Select a word from the list:\", words)\n",
    "word = input(\"Player 1, enter your word (cow, cat, dog, lion): \")\n",
    "\n",
    "\n",
    "hidden_word = ['_' for _ in word] #for hidden words\n",
    "\n",
    "\n",
    "chances = 5\n",
    "\n",
    "print(\"Player 2, try to guess the word.\")\n",
    "print(\"Your word has {len(word)} letters:\" ,{' '.join(hidden_word)}) #joining the word\n",
    "\n",
    "\n",
    "while chances > 0 and '_' in hidden_word:\n",
    "    print (chances, \"are left\")\n",
    "    guess = input(\"Guess a letter: \")\n",
    "\n",
    "    if guess in word:\n",
    "        print(\"Correct guess!\")\n",
    "       \n",
    "        for i in range(len(word)):\n",
    "            if word[i] == guess:\n",
    "                hidden_word[i] = guess\n",
    "    else:\n",
    "        print(\"Wrong guess!\")\n",
    "        chances -= 1\n",
    "\n",
    "    print(' '.join(hidden_word))\n",
    "\n",
    "if '_' not in hidden_word:\n",
    "    print(\"\\nCongratulations! You completed the word:\", word)\n",
    "else:\n",
    "    print(\"\\nOut of chances! The correct word was:\", word)\n",
    "    print(\" +--+\")\n",
    "    print(\" |  |\")\n",
    "    print(\" O  |\")\n",
    "    print(\"/|\\ |\")\n",
    "    print(\"/ \\ |\")\n",
    "    print(\"    |\")\n",
    "\n"
   ]
  },
  {
   "cell_type": "code",
   "execution_count": null,
   "id": "c1524e20-d422-4ae6-9a28-58e5c5c718bc",
   "metadata": {},
   "outputs": [],
   "source": []
  }
 ],
 "metadata": {
  "kernelspec": {
   "display_name": "Python [conda env:base] *",
   "language": "python",
   "name": "conda-base-py"
  },
  "language_info": {
   "codemirror_mode": {
    "name": "ipython",
    "version": 3
   },
   "file_extension": ".py",
   "mimetype": "text/x-python",
   "name": "python",
   "nbconvert_exporter": "python",
   "pygments_lexer": "ipython3",
   "version": "3.12.7"
  }
 },
 "nbformat": 4,
 "nbformat_minor": 5
}
